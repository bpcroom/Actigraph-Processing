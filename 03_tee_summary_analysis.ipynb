{
 "cells": [
  {
   "cell_type": "markdown",
   "metadata": {},
   "source": [
    "# Calculate summary statistics for TEE\n",
    "Previously, we calculated TEE time series for each participant. Here, we calculate basic statistics for each participant (i.e., energy expended each day)\n",
    "\n",
    "++++++++++++++++++\n",
    "\n",
    "Brendan Croom<br>\n",
    "b.p.croom@gmail.com\n",
    "\n",
    "Created: 22 JAN 2020<br>"
   ]
  },
  {
   "cell_type": "code",
   "execution_count": null,
   "metadata": {},
   "outputs": [],
   "source": [
    "import os\n",
    "import numpy as np\n",
    "import pandas as pd\n",
    "from scipy import interpolate, optimize\n",
    "from matplotlib import pyplot as plt\n",
    "import datetime\n",
    "\n",
    "# Note... also need to have XlsxWriter installed in background. Refer\n",
    "# to https://xlsxwriter.readthedocs.io/index.html"
   ]
  },
  {
   "cell_type": "markdown",
   "metadata": {},
   "source": [
    "# First analysis: \n",
    "Calculate TEE and other statistics for each participant during each day:"
   ]
  },
  {
   "cell_type": "code",
   "execution_count": null,
   "metadata": {
    "scrolled": false
   },
   "outputs": [],
   "source": [
    "folder = 'Processed_HR_data'\n",
    "\n",
    "# Initialize lists to store the calculated data:\n",
    "file_list = [] # the source file\n",
    "spreadsheet_list = [] # The tab in each Excel file --> i.e., the measurement day\n",
    "waketime_list = []  # How many datapoints do we have?\n",
    "tee_list = [] # Store 24 hour TEE\n",
    "\n",
    "xlsx_list = [f for f in os.listdir(folder) if f.endswith('.xlsx')]\n",
    "for file in xlsx_list:\n",
    "    print(file)\n",
    "    \n",
    "    # Read the file, which creates a dictionary of DFs corresponding to each sheet\n",
    "    data = pd.read_excel(os.path.join(folder, file), sheet_name=None)\n",
    "    \n",
    "    for i, key in enumerate(data.keys()):\n",
    "        df = data[key]\n",
    "        spreadsheet_list.append(key)\n",
    "        file_list.append(file)\n",
    "        \n",
    "        # compute the total amount of time that we have data for:\n",
    "        waketime_list.append(df.HR_corrected.size / 6 / 60) # in hours\n",
    "        \n",
    "        # Compute the total TEE:\n",
    "        tee_list.append(df.TEE_hiiloskorpy.sum())\n",
    "        \n",
    "# Save the result:\n",
    "df_summary = pd.DataFrame(\n",
    "    columns=['file', 'date', 'waketime_hrs', 'tee_kcal'],\n",
    "    data=np.vstack([file_list, spreadsheet_list, waketime_list, tee_list]).T\n",
    "    )\n",
    "df_summary.to_csv('summary_{}.csv'.format(folder))"
   ]
  },
  {
   "cell_type": "markdown",
   "metadata": {},
   "source": [
    "# Second analysis:\n",
    "Perform a similar analysis on the \"day averaged\" results"
   ]
  },
  {
   "cell_type": "code",
   "execution_count": null,
   "metadata": {},
   "outputs": [],
   "source": [
    "folder = 'day_averaged_Processed_HR_data'\n",
    "\n",
    "file_list = []\n",
    "waketime_list = []\n",
    "tee_list = []\n",
    "\n",
    "xlsx_list = [f for f in os.listdir(folder) if f.endswith('.xlsx')]\n",
    "for file in xlsx_list:\n",
    "    print(file)\n",
    "    \n",
    "    # Read the file, which creates a dictionary of DFs corresponding to each sheet\n",
    "    df = pd.read_excel(os.path.join(folder, file))\n",
    "    \n",
    "    file_list.append(file)\n",
    "        \n",
    "    # compute the total amount of time that we have data for:\n",
    "    waketime_list.append(df.Time_int.size / 6 / 60) # in hours\n",
    "\n",
    "    # Compute the total TEE:\n",
    "    tee_list.append(df.TEE_hiiloskorpy.sum())\n",
    "        \n",
    "# Save the result:\n",
    "df_summary = pd.DataFrame(\n",
    "    columns=['file', 'waketime_hrs', 'tee_kcal'],\n",
    "    data=np.vstack([file_list, waketime_list, tee_list]).T\n",
    "    )\n",
    "df_summary.to_csv('summary_{}.csv'.format(folder))"
   ]
  }
 ],
 "metadata": {
  "kernelspec": {
   "display_name": "Python 3",
   "language": "python",
   "name": "python3"
  },
  "language_info": {
   "codemirror_mode": {
    "name": "ipython",
    "version": 3
   },
   "file_extension": ".py",
   "mimetype": "text/x-python",
   "name": "python",
   "nbconvert_exporter": "python",
   "pygments_lexer": "ipython3",
   "version": "3.8.3"
  }
 },
 "nbformat": 4,
 "nbformat_minor": 2
}
