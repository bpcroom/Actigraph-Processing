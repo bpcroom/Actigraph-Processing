{
 "cells": [
  {
   "cell_type": "markdown",
   "metadata": {},
   "source": [
    "# Calculate average TEE per participant\n",
    "In this script, previously processed TEE data is summarized. Our aim is to create a representative 24 hour TEE time series by averaging daily TEE data for each participant.\n",
    "\n",
    "++++++++++++++++++\n",
    "\n",
    "Brendan Croom<br>\n",
    "b.p.croom@gmail.com\n",
    "\n",
    "Created: 22 JAN 2020<br>"
   ]
  },
  {
   "cell_type": "code",
   "execution_count": 1,
   "metadata": {},
   "outputs": [],
   "source": [
    "import os\n",
    "import numpy as np\n",
    "import pandas as pd\n",
    "from scipy import interpolate, optimize\n",
    "from matplotlib import pyplot as plt\n",
    "import datetime\n",
    "\n",
    "# Note... also need to have XlsxWriter installed in background. Refer\n",
    "# to https://xlsxwriter.readthedocs.io/index.html"
   ]
  },
  {
   "cell_type": "markdown",
   "metadata": {},
   "source": [
    "Auxilliary function to make a list of 10 second epochs over a 24 hour period"
   ]
  },
  {
   "cell_type": "code",
   "execution_count": 2,
   "metadata": {},
   "outputs": [],
   "source": [
    "def make_time_list():\n",
    "    return np.arange(0, 24*60*60, 10).astype('int')"
   ]
  },
  {
   "cell_type": "markdown",
   "metadata": {},
   "source": [
    "Iterate over all previously processed files:"
   ]
  },
  {
   "cell_type": "code",
   "execution_count": 3,
   "metadata": {},
   "outputs": [],
   "source": [
    "# Detect a list of files:\n",
    "src_folder = 'Processed_HR_data'\n",
    "xlsx_list = [f for f in os.listdir(src_folder) if f.endswith('.xlsx')]\n",
    "\n",
    "# Iterate over each files.\n",
    "for file in xlsx_list:\n",
    "    print(file)\n",
    "    \n",
    "    # Read the file, which creates a dictionary of Pandas DataFrames corresponding to each sheet\n",
    "    data = pd.read_excel(os.path.join(src_folder, file), sheet_name=None)\n",
    "\n",
    "    # Create a list of all possible epochs\n",
    "    time_list = make_time_list()  # all times in a day\n",
    "    \n",
    "    # Initialize a container to store TEE values associated with each unique epoch in \"time_list\"\n",
    "    tee_vs_time_dict = dict()\n",
    "\n",
    "    # Iterate over each day of data. Note that we also plot the calculated TEE values using Matplotlib\n",
    "    for i, key in enumerate(data.keys()):\n",
    "        df = data[key]\n",
    "\n",
    "        # Add the times to the dictionary\n",
    "        for (time, tee) in df.loc[df.HR_corrected > 0, ['Time_int', 'TEE_hiiloskorpy']].values:\n",
    "            time = int(time)\n",
    "            if time not in tee_vs_time_dict.keys():\n",
    "                tee_vs_time_dict[time] = []\n",
    "            tee_vs_time_dict[time].append(tee)\n",
    "        \n",
    "        # add to plot\n",
    "        plt.scatter(*df.loc[df.HR_corrected > 0, ['Time_int', 'TEE_hiiloskorpy']].values.T, c='b', s=3, lw=0, alpha=0.5)\n",
    "\n",
    "\n",
    "    # Now, post-process the times. Compute the average for each epoch\n",
    "    tee_avg = np.zeros(time_list.shape) + df['TEE_hiiloskorpy'].min()  # the BMR\n",
    "    for i, time in enumerate(time_list):\n",
    "        if int(time) in tee_vs_time_dict:\n",
    "            tee_avg[i] = np.average(tee_vs_time_dict[int(time)])\n",
    "\n",
    "    # Format and save the plot:\n",
    "    plt.plot(time_list, tee_avg, c='r')\n",
    "    plt.title('{} TEE data'.format(file))\n",
    "    plt.xlabel('Time_int (s)'); plt.ylabel('TEE per 10 second epoch')\n",
    "    plt.savefig(\n",
    "        os.path.join('day_averaged_{}'.format(src_folder), \n",
    "                     'tee_{}.png'.format(file))\n",
    "        )\n",
    "    plt.close()\n",
    "    \n",
    "    # Save the data to a new Excel file:\n",
    "    summary_df = pd.DataFrame(\n",
    "        columns=['Time_int', 'TEE_hiiloskorpy'],\n",
    "        data=np.vstack((time_list, tee_avg)).T)\n",
    "    summary_df.to_excel(\n",
    "        os.path.join('day_averaged_{}'.format(src_folder), file)\n",
    "        )"
   ]
  }
 ],
 "metadata": {
  "kernelspec": {
   "display_name": "Python 3",
   "language": "python",
   "name": "python3"
  },
  "language_info": {
   "codemirror_mode": {
    "name": "ipython",
    "version": 3
   },
   "file_extension": ".py",
   "mimetype": "text/x-python",
   "name": "python",
   "nbconvert_exporter": "python",
   "pygments_lexer": "ipython3",
   "version": "3.8.3"
  }
 },
 "nbformat": 4,
 "nbformat_minor": 2
}
